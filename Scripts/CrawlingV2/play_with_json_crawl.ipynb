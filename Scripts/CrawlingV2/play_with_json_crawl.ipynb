{
 "cells": [
  {
   "cell_type": "code",
   "execution_count": 1,
   "metadata": {
    "collapsed": true
   },
   "outputs": [],
   "source": [
    "#Import modules\n",
    "import json\n",
    "import requests"
   ]
  },
  {
   "cell_type": "code",
   "execution_count": 4,
   "metadata": {
    "collapsed": false
   },
   "outputs": [],
   "source": [
    "#get json from sample url\n",
    "search_url = 'http://partnerapi.funda.nl/feeds/Aanbod.svc/search/\\\n",
    "json/c7e56d1972654b91bdd54fa12cf9d9c8/?website=funda&type=koop&\\\n",
    "zo=/amsterdam/&page=1&pagesize=25&projectObjectenTonen=2&objectTypenTonen=true&statistiekId=140'\n",
    "\n",
    "apart_url = 'http://partnerapi.funda.nl/feeds/Aanbod.svc/json/\\\n",
    "detail/c7e56d1972654b91bdd54fa12cf9d9c8/koop/\\\n",
    "b9bc59b1-1661-4dbd-8ccb-ffd98f987adb/'\n",
    "\n",
    "#r_search = requests.get(search_url)\n",
    "#r_apart = requests.get(apart_url)\n",
    "\n",
    "#search_data = r_search.json()\n",
    "#apart_data = r_apart.json()\n",
    "\n",
    "#print search_data.keys()\n",
    "#print\n",
    "#print apart_data.keys()\n",
    "\n",
    "#search_data\n",
    "\n",
    "#apart_data\n",
    "\n",
    "\n"
   ]
  },
  {
   "cell_type": "markdown",
   "metadata": {},
   "source": [
    "The logic has been figured out. Next step implementation."
   ]
  },
  {
   "cell_type": "code",
   "execution_count": 49,
   "metadata": {
    "collapsed": false
   },
   "outputs": [
    {
     "data": {
      "text/plain": [
       "25"
      ]
     },
     "execution_count": 49,
     "metadata": {},
     "output_type": "execute_result"
    }
   ],
   "source": [
    "#Test requesting more records everytime\n",
    "search_url_large = 'http://partnerapi.funda.nl/feeds/Aanbod.svc/search/\\\n",
    "json/c7e56d1972654b91bdd54fa12cf9d9c8/?website=funda&type=koop&\\\n",
    "zo=/amsterdam/&page=1&pagesize=100&projectObjectenTonen=2&objectTypenTonen=true&statistiekId=140'\n",
    "\n",
    "r = requests.get(search_url_large)\n",
    "data = str(r.json())\n",
    "data.count('AangebodenSindsTekst')\n"
   ]
  },
  {
   "cell_type": "markdown",
   "metadata": {
    "collapsed": true
   },
   "source": [
    "Test pagination & whether verkocht is in there"
   ]
  },
  {
   "cell_type": "code",
   "execution_count": null,
   "metadata": {
    "collapsed": true
   },
   "outputs": [],
   "source": [
    "zo = heel-nederland gets entire inventory"
   ]
  },
  {
   "cell_type": "code",
   "execution_count": 24,
   "metadata": {
    "collapsed": false
   },
   "outputs": [
    {
     "data": {
      "text/plain": [
       "int"
      ]
     },
     "execution_count": 24,
     "metadata": {},
     "output_type": "execute_result"
    }
   ],
   "source": [
    "url = 'http://partnerapi.funda.nl/feeds/Aanbod.svc/search/\\\n",
    "json/c7e56d1972654b91bdd54fa12cf9d9c8/?website=funda&type=koop&\\\n",
    "zo=/heel-nederland/&page=153&pagesize=25&projectObjectenTonen=2&objectTypenTonen=true&statistiekId=140'\n",
    "\n",
    "r = requests.get(url)\n",
    "data = r.json()\n",
    "type(data['Paging']['AantalPaginas'])"
   ]
  },
  {
   "cell_type": "code",
   "execution_count": null,
   "metadata": {
    "collapsed": true
   },
   "outputs": [],
   "source": []
  }
 ],
 "metadata": {
  "kernelspec": {
   "display_name": "Python 2",
   "language": "python",
   "name": "python2"
  },
  "language_info": {
   "codemirror_mode": {
    "name": "ipython",
    "version": 2
   },
   "file_extension": ".py",
   "mimetype": "text/x-python",
   "name": "python",
   "nbconvert_exporter": "python",
   "pygments_lexer": "ipython2",
   "version": "2.7.11"
  }
 },
 "nbformat": 4,
 "nbformat_minor": 0
}
