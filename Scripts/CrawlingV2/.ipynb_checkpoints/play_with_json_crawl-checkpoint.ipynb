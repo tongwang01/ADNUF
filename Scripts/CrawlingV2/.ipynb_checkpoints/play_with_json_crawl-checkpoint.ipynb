{
 "cells": [
  {
   "cell_type": "code",
   "execution_count": 1,
   "metadata": {
    "collapsed": true
   },
   "outputs": [],
   "source": [
    "#Import modules\n",
    "import json\n",
    "import requests"
   ]
  },
  {
   "cell_type": "code",
   "execution_count": 41,
   "metadata": {
    "collapsed": false
   },
   "outputs": [
    {
     "name": "stdout",
     "output_type": "stream",
     "text": [
      "[u'Website', u'TotaalAantalObjecten', u'AccountStatus', u'Paging', u'Objects', u'ValidationFailed', u'ValidationReport', u'Metadata']\n",
      "\n",
      "{u'Omschrijving': u'Koopwoningen > Amsterdam', u'Titel': u'Huizen te koop in Amsterdam', u'ObjectType': u'Koopwoningen'}\n"
     ]
    }
   ],
   "source": [
    "#get json from sample url\n",
    "search_url = 'http://partnerapi.funda.nl/feeds/Aanbod.svc/search/\\\n",
    "json/c7e56d1972654b91bdd54fa12cf9d9c8/?website=funda&type=koop&\\\n",
    "zo=/amsterdam/&page=1&pagesize=25&projectObjectenTonen=2&objectTypenTonen=true&statistiekId=140'\n",
    "\n",
    "apart_url = 'http://partnerapi.funda.nl/feeds/Aanbod.svc/json/\\\n",
    "detail/c7e56d1972654b91bdd54fa12cf9d9c8/koop/\\\n",
    "b9bc59b1-1661-4dbd-8ccb-ffd98f987adb/'\n",
    "\n",
    "#r = requests.get(sample_url)\n",
    "#json_data = r.json()\n",
    "#json_data['Objects'][1].keys()\n",
    "print json_data.keys()\n",
    "print \n",
    "print json_data['Metadata']\n",
    "#json_data\n",
    "\n",
    "#json_data['AccountStatus']\n",
    "\n",
    "\n",
    "\n"
   ]
  },
  {
   "cell_type": "code",
   "execution_count": null,
   "metadata": {
    "collapsed": true
   },
   "outputs": [],
   "source": []
  },
  {
   "cell_type": "code",
   "execution_count": null,
   "metadata": {
    "collapsed": true
   },
   "outputs": [],
   "source": []
  },
  {
   "cell_type": "code",
   "execution_count": null,
   "metadata": {
    "collapsed": true
   },
   "outputs": [],
   "source": []
  },
  {
   "cell_type": "code",
   "execution_count": null,
   "metadata": {
    "collapsed": true
   },
   "outputs": [],
   "source": []
  }
 ],
 "metadata": {
  "kernelspec": {
   "display_name": "Python 2",
   "language": "python",
   "name": "python2"
  },
  "language_info": {
   "codemirror_mode": {
    "name": "ipython",
    "version": 2
   },
   "file_extension": ".py",
   "mimetype": "text/x-python",
   "name": "python",
   "nbconvert_exporter": "python",
   "pygments_lexer": "ipython2",
   "version": "2.7.11"
  }
 },
 "nbformat": 4,
 "nbformat_minor": 0
}
